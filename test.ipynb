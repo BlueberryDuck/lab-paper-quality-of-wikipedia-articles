{
 "cells": [
  {
   "cell_type": "code",
   "execution_count": null,
   "id": "f57ae76d-d636-4df4-a854-a22737758fd7",
   "metadata": {},
   "outputs": [],
   "source": [
    "import kagglehub\n",
    "import pandas as pd\n",
    "import os\n",
    "import numpy as np\n",
    "from sklearn.model_selection import train_test_split\n",
    "from sklearn.model_selection import GridSearchCV\n",
    "from sklearn.feature_extraction.text import TfidfVectorizer\n",
    "from sklearn.svm import SVC\n",
    "from sklearn.metrics import classification_report, confusion_matrix, accuracy_score"
   ]
  },
  {
   "cell_type": "markdown",
   "id": "dd4230eb-1536-4bbd-8c06-5a002d00ecdd",
   "metadata": {},
   "source": [
    "## Datensatz herunterladen"
   ]
  },
  {
   "cell_type": "code",
   "execution_count": null,
   "id": "2c13799c-51ea-41f3-aca6-a48981bbdfbd",
   "metadata": {},
   "outputs": [],
   "source": [
    "path_to_dataset = kagglehub.dataset_download(\"urbanbricks/wikipedia-promotional-articles\")\n",
    "print(path_to_dataset)"
   ]
  },
  {
   "cell_type": "markdown",
   "id": "d0a3c173-e4b0-49c8-b2c8-8b41083c0bba",
   "metadata": {},
   "source": [
    "## Dateien lesen"
   ]
  },
  {
   "cell_type": "code",
   "execution_count": null,
   "id": "2712fe59-0767-461a-9741-54f908493caa",
   "metadata": {},
   "outputs": [],
   "source": [
    "frac=0.05\n",
    "random_state=42\n",
    "\n",
    "good_df = pd.read_csv(os.path.join(path_to_dataset, 'good.csv')).sample(frac=frac, random_state=random_state)\n",
    "promo_df = pd.read_csv(os.path.join(path_to_dataset, 'promotional.csv')).sample(frac=frac, random_state=random_state)\n",
    "print(\"Good:\\n\")\n",
    "print(good_df.info())\n",
    "print(\"\\nPromo:\\n\")\n",
    "print(promo_df.info())"
   ]
  },
  {
   "cell_type": "markdown",
   "id": "5936d18e-28f8-4894-a9f1-accfd9829922",
   "metadata": {},
   "source": [
    "## Daten kombinieren"
   ]
  },
  {
   "cell_type": "code",
   "execution_count": null,
   "id": "1863148c-b409-49e0-a633-08de1412a09e",
   "metadata": {},
   "outputs": [],
   "source": [
    "good_df['label'] = 'good'\n",
    "promo_df['label'] = 'promotional'\n",
    "df = pd.concat([good_df, promo_df])\n",
    "df = df[['text', 'label']]\n",
    "print(df.info())"
   ]
  },
  {
   "cell_type": "markdown",
   "id": "e837d8e8-d1d5-45ae-bafa-6c03416befd6",
   "metadata": {},
   "source": [
    "## Textdaten in numerische Merkmale umwandeln"
   ]
  },
  {
   "cell_type": "code",
   "execution_count": null,
   "id": "698a95ae-4f86-4ec6-876e-7d5ef9acda8c",
   "metadata": {},
   "outputs": [],
   "source": [
    "tfidf = TfidfVectorizer(stop_words='english', max_df=0.7)\n",
    "X = tfidf.fit_transform(df['text'])\n",
    "y = df['label']"
   ]
  },
  {
   "cell_type": "markdown",
   "id": "04d81a88-2603-4481-b586-a3f737d7daf2",
   "metadata": {},
   "source": [
    "## Train-Test-Split"
   ]
  },
  {
   "cell_type": "code",
   "execution_count": null,
   "id": "0f11fb15-839e-41b8-a180-b1f4bda3d433",
   "metadata": {},
   "outputs": [],
   "source": [
    "X_train, X_test, y_train, y_test = train_test_split(X, y, test_size=0.2, random_state=42)"
   ]
  },
  {
   "cell_type": "markdown",
   "id": "22f50b23-0856-4bed-8dee-739efefa8a1c",
   "metadata": {},
   "source": [
    "## Hyperparameter-Tuning (Grid Search)"
   ]
  },
  {
   "cell_type": "code",
   "execution_count": null,
   "id": "f2c408b3-ad81-4dfc-810a-0e2fd3df4be1",
   "metadata": {},
   "outputs": [],
   "source": [
    "def tune_grid_search(X_train, y_train, model):\n",
    "    param_grid = {'C': [0.01, 0.1, 1, 10, 100, 1000]}\n",
    "    grid_search = GridSearchCV(estimator=model, param_grid=param_grid, cv=5, scoring='accuracy', n_jobs=-1)\n",
    "    grid_search.fit(X_train, y_train)\n",
    "    best_C = grid_search.best_params_['C']\n",
    "    best_score = grid_search.best_score_\n",
    "    print(f\"Best param: {best_C}\")\n",
    "    print(f\"Best score: {best_score}\")\n",
    "    return grid_search.best_estimator_"
   ]
  },
  {
   "cell_type": "markdown",
   "id": "6d70bdb1-c551-4237-a918-5560bda5ff9d",
   "metadata": {},
   "source": [
    "## Evaluations-Methode"
   ]
  },
  {
   "cell_type": "code",
   "execution_count": null,
   "id": "b0aef1db-1392-4a87-adff-6362afef1248",
   "metadata": {},
   "outputs": [],
   "source": [
    "def evaluate_model(X_test, y_test, model):\n",
    "    y_pred = model.predict(X_test)\n",
    "    print(\"Confusion Matrix:\")\n",
    "    print(confusion_matrix(y_test, y_pred))\n",
    "    print(\"\\nClassification Report:\")\n",
    "    print(classification_report(y_test, y_pred))\n",
    "    print(\"\\nAccuracy:\")\n",
    "    print(accuracy_score(y_test, y_pred))"
   ]
  },
  {
   "cell_type": "markdown",
   "id": "6e256dd0-026f-42c5-a80b-c814abef0a08",
   "metadata": {},
   "source": [
    "## Linearer Kernel"
   ]
  },
  {
   "cell_type": "code",
   "execution_count": null,
   "id": "91eb03f1-8756-4794-ba00-cba6e6a87a32",
   "metadata": {},
   "outputs": [],
   "source": [
    "# svm_model_linear = SVC(kernel='linear', C=1.0)\n",
    "# svm_model_linear.fit(X_train, y_train)\n",
    "\n",
    "# frac=0.0 => C=1\n",
    "# frac=0.05 => C=10\n",
    "\n",
    "svm_model_linear = tune_grid_search(X_train, y_train, SVC(kernel='linear'))"
   ]
  },
  {
   "cell_type": "code",
   "execution_count": null,
   "id": "e5d713fd-c716-4ba1-b8c2-1275b5f740aa",
   "metadata": {},
   "outputs": [],
   "source": [
    "evaluate_model(X_test, y_test, svm_model_linear)"
   ]
  },
  {
   "cell_type": "markdown",
   "id": "d33bf6a9-05bd-4e0e-84ab-526c51bed203",
   "metadata": {},
   "source": [
    "## RBF-Kernel"
   ]
  },
  {
   "cell_type": "code",
   "execution_count": null,
   "id": "62b670a7-f8b9-48ae-b010-7b109a06c318",
   "metadata": {},
   "outputs": [],
   "source": [
    "# svm_model_rbf = SVC(kernel='rbf', C=1.0, gamma='scale')\n",
    "# svm_model_rbf.fit(X_train, y_train)\n",
    "\n",
    "# frac=0.01 => C=1\n",
    "# frac=0.05 => C=10\n",
    "\n",
    "svm_model_rbf = tune_grid_search(X_train, y_train, SVC(kernel='rbf', gamma='scale'))"
   ]
  },
  {
   "cell_type": "code",
   "execution_count": null,
   "id": "26b3ad61-25e0-4a3f-9a1e-5f31ef4c4ef0",
   "metadata": {},
   "outputs": [],
   "source": [
    "evaluate_model(X_test, y_test, svm_model_rbf)"
   ]
  },
  {
   "cell_type": "markdown",
   "id": "135be8dd-556d-49cd-98f2-15d794d61742",
   "metadata": {},
   "source": [
    "## Poly-Kernel"
   ]
  },
  {
   "cell_type": "code",
   "execution_count": null,
   "id": "ba43295d-f291-4124-93db-f6ba2f8f9bf6",
   "metadata": {},
   "outputs": [],
   "source": [
    "# svm_model_poly = SVC(kernel='poly', C=1.0, gamma='scale')\n",
    "# svm_model_poly.fit(X_train, y_train)\n",
    "\n",
    "# frac=0.01 => C=1\n",
    "# frac=0.05 => C=10\n",
    "\n",
    "svm_model_poly = tune_grid_search(X_train, y_train, SVC(kernel='poly', gamma='scale'))"
   ]
  },
  {
   "cell_type": "code",
   "execution_count": null,
   "id": "0d23906d-4d27-4d6d-b940-730ac5d6adff",
   "metadata": {},
   "outputs": [],
   "source": [
    "evaluate_model(X_test, y_test, svm_model_poly)"
   ]
  },
  {
   "cell_type": "markdown",
   "id": "c79a9d8c-5ac3-4f48-99bb-32790e81ba1e",
   "metadata": {},
   "source": [
    "## Sigmoid-Kernel"
   ]
  },
  {
   "cell_type": "code",
   "execution_count": null,
   "id": "a6016ef3-4412-42d2-a6c9-3bf60c1e400a",
   "metadata": {},
   "outputs": [],
   "source": [
    "# svm_model_sigmoid = SVC(kernel='sigmoid', C=1.0, gamma='scale')\n",
    "# svm_model_sigmoid.fit(X_train, y_train)\n",
    "\n",
    "# frac=0.01 => C=1\n",
    "# frac=0.05 => C=1\n",
    "\n",
    "svm_model_sigmoid = tune_grid_search(X_train, y_train, SVC(kernel='sigmoid', gamma='scale'))"
   ]
  },
  {
   "cell_type": "code",
   "execution_count": null,
   "id": "5d6702ff-dae5-42c7-b676-5742ac5ac57e",
   "metadata": {},
   "outputs": [],
   "source": [
    "evaluate_model(X_test, y_test, svm_model_sigmoid)"
   ]
  },
  {
   "cell_type": "code",
   "execution_count": null,
   "id": "5a28205a-d598-4964-a1bf-b981dda669e5",
   "metadata": {},
   "outputs": [],
   "source": []
  }
 ],
 "metadata": {
  "kernelspec": {
   "display_name": "Python 3 (ipykernel)",
   "language": "python",
   "name": "python3"
  },
  "language_info": {
   "codemirror_mode": {
    "name": "ipython",
    "version": 3
   },
   "file_extension": ".py",
   "mimetype": "text/x-python",
   "name": "python",
   "nbconvert_exporter": "python",
   "pygments_lexer": "ipython3",
   "version": "3.9.1"
  }
 },
 "nbformat": 4,
 "nbformat_minor": 5
}
