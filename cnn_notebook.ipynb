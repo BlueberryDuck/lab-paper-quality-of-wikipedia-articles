{
 "cells": [
  {
   "cell_type": "code",
   "execution_count": 7,
   "metadata": {},
   "outputs": [],
   "source": [
    "from src.data_loader import load_data\n",
    "from src.utils import load_config\n",
    "\n",
    "from src import wikipedia_article_dataset\n",
    "\n",
    "from sklearn.model_selection import train_test_split\n",
    "import tiktoken\n",
    "\n",
    "from torch.utils.data.dataloader import DataLoader"
   ]
  },
  {
   "cell_type": "code",
   "execution_count": 9,
   "metadata": {},
   "outputs": [],
   "source": [
    "MAX_LENGTH = 400\n",
    "BATCH_SIZE = 16"
   ]
  },
  {
   "cell_type": "code",
   "execution_count": 2,
   "metadata": {},
   "outputs": [],
   "source": [
    "config = load_config(\"just-load\")"
   ]
  },
  {
   "cell_type": "code",
   "execution_count": 3,
   "metadata": {},
   "outputs": [],
   "source": [
    "df = load_data(config[\"data_loader\"], \"binary\")"
   ]
  },
  {
   "cell_type": "code",
   "execution_count": 4,
   "metadata": {},
   "outputs": [],
   "source": [
    "X_train, X_test, y_train, y_test = train_test_split(df[\"text\"], df[\"label\"], test_size=0.2)"
   ]
  },
  {
   "cell_type": "code",
   "execution_count": 5,
   "metadata": {},
   "outputs": [],
   "source": [
    "tokenizer = tiktoken.get_encoding(\"cl100k_base\")"
   ]
  },
  {
   "cell_type": "code",
   "execution_count": 10,
   "metadata": {},
   "outputs": [],
   "source": [
    "train_dataset = wikipedia_article_dataset.WikipediaArticleDataset(\n",
    "    X_train,\n",
    "    y_train,\n",
    "    tokenizer.encode,\n",
    "    MAX_LENGTH\n",
    ")\n",
    "\n",
    "test_dataset = wikipedia_article_dataset.WikipediaArticleDataset(\n",
    "    X_test,\n",
    "    y_test,\n",
    "    tokenizer.encode,\n",
    "    MAX_LENGTH\n",
    ")\n",
    "\n",
    "train_dataloader = DataLoader(train_dataset, BATCH_SIZE)\n",
    "test_dataloader = DataLoader(test_dataset, BATCH_SIZE)"
   ]
  }
 ],
 "metadata": {
  "kernelspec": {
   "display_name": "Python 3.12.5 64-bit",
   "language": "python",
   "name": "python3"
  },
  "language_info": {
   "codemirror_mode": {
    "name": "ipython",
    "version": 3
   },
   "file_extension": ".py",
   "mimetype": "text/x-python",
   "name": "python",
   "nbconvert_exporter": "python",
   "pygments_lexer": "ipython3",
   "version": "3.12.5"
  },
  "orig_nbformat": 4,
  "vscode": {
   "interpreter": {
    "hash": "aee8b7b246df8f9039afb4144a1f6fd8d2ca17a180786b69acc140d282b71a49"
   }
  }
 },
 "nbformat": 4,
 "nbformat_minor": 2
}
