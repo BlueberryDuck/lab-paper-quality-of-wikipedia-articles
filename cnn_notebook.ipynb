{
 "cells": [
  {
   "cell_type": "code",
   "execution_count": 1,
   "metadata": {},
   "outputs": [
    {
     "name": "stderr",
     "output_type": "stream",
     "text": [
      "[nltk_data] Error loading stopwords: <urlopen error [SSL:\n",
      "[nltk_data]     CERTIFICATE_VERIFY_FAILED] certificate verify failed:\n",
      "[nltk_data]     unable to get local issuer certificate (_ssl.c:1000)>\n"
     ]
    }
   ],
   "source": [
    "from src.data_loader import load_data\n",
    "from src.utils import load_config\n",
    "\n",
    "from src import wikipedia_article_dataset\n",
    "\n",
    "from sklearn.model_selection import train_test_split\n",
    "import tiktoken\n",
    "\n",
    "from torch.utils.data.dataloader import DataLoader\n",
    "\n",
    "from src.models import CNN, CNNModel"
   ]
  },
  {
   "cell_type": "code",
   "execution_count": 2,
   "metadata": {},
   "outputs": [],
   "source": [
    "MAX_LENGTH = 400\n",
    "BATCH_SIZE = 16\n",
    "\n",
    "EMBEDDING_DIM = 128\n",
    "NUM_FILTERS = 10\n",
    "FILTER_SIZES = [3, 4, 5]\n",
    "NUM_CLASSES = 2\n",
    "DROPOUT = 0.5"
   ]
  },
  {
   "cell_type": "code",
   "execution_count": 3,
   "metadata": {},
   "outputs": [],
   "source": [
    "config = load_config(\"just-load\")"
   ]
  },
  {
   "cell_type": "code",
   "execution_count": 4,
   "metadata": {},
   "outputs": [],
   "source": [
    "df = load_data(config[\"data_loader\"], \"binary\")"
   ]
  },
  {
   "cell_type": "code",
   "execution_count": 5,
   "metadata": {},
   "outputs": [],
   "source": [
    "df = df.head(500)"
   ]
  },
  {
   "cell_type": "code",
   "execution_count": 6,
   "metadata": {},
   "outputs": [],
   "source": [
    "X_train, X_test, y_train, y_test = train_test_split(list(df[\"text\"]), list(df[\"label\"]), test_size=0.2)"
   ]
  },
  {
   "cell_type": "code",
   "execution_count": 7,
   "metadata": {},
   "outputs": [],
   "source": [
    "tokenizer = tiktoken.get_encoding(\"cl100k_base\")"
   ]
  },
  {
   "cell_type": "code",
   "execution_count": 8,
   "metadata": {},
   "outputs": [],
   "source": [
    "model = CNNModel(\n",
    "    tokenizer.n_vocab,\n",
    "    EMBEDDING_DIM,\n",
    "    NUM_FILTERS,\n",
    "    FILTER_SIZES,\n",
    "    NUM_CLASSES,\n",
    "    MAX_LENGTH,\n",
    "    DROPOUT\n",
    ")"
   ]
  },
  {
   "cell_type": "code",
   "execution_count": 9,
   "metadata": {},
   "outputs": [
    {
     "name": "stdout",
     "output_type": "stream",
     "text": [
      "Epoch: 0, loss: 0.7059155011177063\n",
      "Epoch: 1, loss: 0.6794910216331482\n",
      "Epoch: 2, loss: 0.6560888624191284\n",
      "Epoch: 3, loss: 0.6455287194252014\n",
      "Epoch: 4, loss: 0.6116672444343567\n",
      "Epoch: 5, loss: 0.588846286535263\n",
      "Epoch: 6, loss: 0.5707129967212677\n",
      "Epoch: 7, loss: 0.5650738131999969\n",
      "Epoch: 8, loss: 0.5418475139141082\n",
      "Epoch: 9, loss: 0.5576893413066863\n"
     ]
    }
   ],
   "source": [
    "model.fit(X_train, y_train, 0.001, 10, BATCH_SIZE)"
   ]
  }
 ],
 "metadata": {
  "kernelspec": {
   "display_name": "Python 3.12.5 64-bit",
   "language": "python",
   "name": "python3"
  },
  "language_info": {
   "codemirror_mode": {
    "name": "ipython",
    "version": 3
   },
   "file_extension": ".py",
   "mimetype": "text/x-python",
   "name": "python",
   "nbconvert_exporter": "python",
   "pygments_lexer": "ipython3",
   "version": "3.12.5"
  },
  "orig_nbformat": 4,
  "vscode": {
   "interpreter": {
    "hash": "aee8b7b246df8f9039afb4144a1f6fd8d2ca17a180786b69acc140d282b71a49"
   }
  }
 },
 "nbformat": 4,
 "nbformat_minor": 2
}
