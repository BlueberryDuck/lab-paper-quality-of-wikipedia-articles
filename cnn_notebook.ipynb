{
 "cells": [
  {
   "cell_type": "code",
   "execution_count": null,
   "metadata": {},
   "outputs": [],
   "source": [
    "from sklearn.model_selection import train_test_split\n",
    "from sklearn.metrics import classification_report\n",
    "from torch.utils.data.dataloader import DataLoader\n",
    "import tiktoken\n",
    "\n",
    "from src.data_loader import load_data\n",
    "from src.utils import load_config\n",
    "from src import wikipedia_article_dataset\n",
    "from src.models import CNN, CNNModel, MultilabelCNNModel\n",
    "from src.evaluation import evaluate_model"
   ]
  },
  {
   "cell_type": "markdown",
   "metadata": {},
   "source": [
    "## Binary Classification"
   ]
  },
  {
   "cell_type": "code",
   "execution_count": null,
   "metadata": {},
   "outputs": [],
   "source": [
    "MAX_LENGTH = 400\n",
    "BATCH_SIZE = 16\n",
    "\n",
    "EMBEDDING_DIM = 128\n",
    "NUM_FILTERS = 10\n",
    "FILTER_SIZES = [3, 4, 5]\n",
    "DROPOUT = 0.5"
   ]
  },
  {
   "cell_type": "code",
   "execution_count": 1,
   "metadata": {},
   "outputs": [],
   "source": [
    "import torch\n",
    "\n",
    "device = torch.device(\"cuda\" if torch.cuda.is_available() else \"cpu\")"
   ]
  },
  {
   "cell_type": "code",
   "execution_count": 2,
   "metadata": {},
   "outputs": [
    {
     "name": "stderr",
     "output_type": "stream",
     "text": [
      "[nltk_data] Error loading stopwords: <urlopen error [SSL:\n",
      "[nltk_data]     CERTIFICATE_VERIFY_FAILED] certificate verify failed:\n",
      "[nltk_data]     unable to get local issuer certificate (_ssl.c:1000)>\n",
      "2025-03-06 21:32:09,486 - src.utils - INFO - Loading config from configs/just-load.yaml.\n",
      "2025-03-06 21:32:09,500 - src.data_loader - INFO - Loading data with {'good_file': '/Users/robinsuxdorf/Documents/Uni/FernUni Hagen/4. Semester/Projektpraktikum/github/good.csv', 'promo_file': '/Users/robinsuxdorf/Documents/Uni/FernUni Hagen/4. Semester/Projektpraktikum/github/promotional.csv', 'shuffle': False, 'nrows': 250, 'save': 'loaded_data_binary.csv'}\n",
      "2025-03-06 21:32:09,512 - src.data_loader - INFO - Loading non-promotional and promotional data for binary classification.\n",
      "2025-03-06 21:32:09,752 - src.utils - INFO - Data saved to data/intermediary/loaded_data_binary.csv.\n",
      "2025-03-06 21:32:09,755 - src.preprocessing - INFO - Preprocessing data with {'remove_non_word': True, 'convert_lowercase': True, 'remove_stopwords': True, 'apply_stemming': True, 'remove_numbers': False, 'remove_whitespace': True, 'save': 'preprocessed_data_binary.csv'}\n",
      "2025-03-06 21:32:09,756 - src.preprocessing - INFO - Removing non-word characters.\n",
      "2025-03-06 21:32:10,157 - src.preprocessing - INFO - Converting text to lowercase.\n",
      "2025-03-06 21:32:10,166 - src.preprocessing - INFO - Removing stopwords.\n",
      "2025-03-06 21:32:10,371 - src.preprocessing - INFO - Applying stemming.\n",
      "2025-03-06 21:32:20,226 - src.preprocessing - INFO - Removing leading and trailing whitespace.\n",
      "2025-03-06 21:32:20,227 - src.preprocessing - INFO - Text data preprocessing complete.\n",
      "2025-03-06 21:32:20,318 - src.utils - INFO - Data saved to data/intermediary/preprocessed_data_binary.csv.\n",
      "2025-03-06 21:32:20,319 - src.features - INFO - Getting features with {'type': 'tfidf', 'ngram_range': [1, 1], 'max_df': 0.9, 'min_df': 0.001, 'max_features': 10000, 'sublinear_tf': True, 'save': 'features_binary.pkl'}.\n",
      "2025-03-06 21:32:20,319 - src.features - INFO - Using a TF-IDF vectorizer.\n",
      "2025-03-06 21:32:20,775 - src.features - INFO - Feature extraction complete.\n",
      "2025-03-06 21:32:20,786 - src.utils - INFO - Data saved to data/intermediary/features_binary.pkl.\n"
     ]
    }
   ],
   "source": [
    "from src.utils import load_config\n",
    "from main import run_preprocessing_pipeline\n",
    "from sklearn.model_selection import train_test_split\n",
    "\n",
    "config = load_config(\"just-load\")\n",
    "\n",
    "X, y = run_preprocessing_pipeline(config)\n",
    "\n",
    "y = y[\"label\"].values\n",
    "\n",
    "X_train, X_test, y_train, y_test = train_test_split(X, y, test_size=0.2, random_state=42)"
   ]
  },
  {
   "cell_type": "code",
   "execution_count": 5,
   "metadata": {},
   "outputs": [],
   "source": [
    "from src.wikipedia_article_dataset import WikipediaArticleDataset\n",
    "from torch.utils.data.dataloader import DataLoader\n",
    "\n",
    "train_dataset = WikipediaArticleDataset(X_train, y_train)\n",
    "test_dataset = WikipediaArticleDataset(X_test, y_test)\n",
    "\n",
    "train_dataloader = DataLoader(train_dataset, 16)\n",
    "test_dataloader = DataLoader(test_dataset, 16)"
   ]
  },
  {
   "cell_type": "code",
   "execution_count": null,
   "metadata": {},
   "outputs": [],
   "source": [
    "import torch\n",
    "import torch.nn as nn\n",
    "import torch.nn.functional as F\n",
    "\n",
    "class CNN(nn.Module):\n",
    "    def __init__(\n",
    "        self,\n",
    "        input_dim: int,\n",
    "        num_filters: int,\n",
    "        num_classes: int,\n",
    "        dropout: float = 0.5\n",
    "    ) -> None:\n",
    "        super().__init__()\n",
    "        self.fc1 = nn.Linear(input_dim, num_filters)\n",
    "        self.fc2 = nn.Linear(num_filters, num_classes)\n",
    "        self.dropout = nn.Dropout(dropout)\n",
    "\n",
    "    def forward(self, x: torch.Tensor) -> torch.Tensor:\n",
    "        x = F.relu(self.fc1(x))\n",
    "        x = self.dropout(x)\n",
    "        x = self.fc2(x)\n",
    "        return x"
   ]
  },
  {
   "cell_type": "code",
   "execution_count": null,
   "metadata": {},
   "outputs": [],
   "source": [
    "import torch.optim as optim\n",
    "\n",
    "model = CNN(\n",
    "    10000,\n",
    "    512,\n",
    "    2\n",
    ")\n",
    "\n",
    "criterion = nn.CrossEntropyLoss()\n",
    "optimizer = optim.Adam(model.parameters(), lr=0.01)"
   ]
  },
  {
   "cell_type": "code",
   "execution_count": null,
   "metadata": {},
   "outputs": [],
   "source": [
    "def _train_one_epoch(\n",
    "    train_dataloader: DataLoader, optimizer: optim.Optimizer\n",
    ") -> float:\n",
    "    model.train()\n",
    "    total_loss = 0.0\n",
    "    for inputs, labels in train_dataloader:\n",
    "        inputs = inputs.to(device)\n",
    "        labels = labels.to(device).type(torch.long)\n",
    "\n",
    "        optimizer.zero_grad()\n",
    "\n",
    "        logits = model(inputs)\n",
    "\n",
    "        loss = criterion(logits, labels)\n",
    "        loss.backward()\n",
    "\n",
    "        optimizer.step()\n",
    "\n",
    "        total_loss += loss.item()\n",
    "    return total_loss / len(train_dataloader)"
   ]
  },
  {
   "cell_type": "code",
   "execution_count": null,
   "metadata": {},
   "outputs": [],
   "source": [
    "num_epochs = 5\n",
    "\n",
    "for epoch in range(num_epochs):\n",
    "    avg_loss = _train_one_epoch(train_dataloader, optimizer)\n",
    "    print(f\"Epoch {epoch+1}/{num_epochs}, Loss: {avg_loss:.4f}\")"
   ]
  },
  {
   "cell_type": "code",
   "execution_count": null,
   "metadata": {},
   "outputs": [],
   "source": [
    "def binary_predict_fn(logits: torch.Tensor) -> torch.Tensor:\n",
    "    return torch.argmax(logits, dim=1)\n",
    "\n",
    "def predict(features) -> list:\n",
    "    tensors = [\n",
    "        torch.tensor(article.toarray().squeeze(), dtype=torch.float, device=device)\n",
    "        for article in features\n",
    "    ]\n",
    "    \n",
    "    input_batch = torch.stack(tensors)\n",
    "\n",
    "    model.eval()\n",
    "    with torch.no_grad():\n",
    "        logits = model(input_batch)\n",
    "        predictions = binary_predict_fn(logits)\n",
    "\n",
    "    return predictions.cpu().tolist()"
   ]
  },
  {
   "cell_type": "code",
   "execution_count": null,
   "metadata": {},
   "outputs": [],
   "source": [
    "from sklearn.metrics import (\n",
    "    accuracy_score\n",
    ")\n",
    "\n",
    "y_pred = predict(X_test)\n",
    "\n",
    "accuracy = accuracy_score(y_test, y_pred)\n",
    "\n",
    "accuracy"
   ]
  },
  {
   "cell_type": "code",
   "execution_count": null,
   "metadata": {},
   "outputs": [],
   "source": [
    "model.fit(X_train, y_train, 0.001, 3, BATCH_SIZE)"
   ]
  },
  {
   "cell_type": "code",
   "execution_count": null,
   "metadata": {},
   "outputs": [],
   "source": [
    "predictions = model.predict(X_test)"
   ]
  },
  {
   "cell_type": "code",
   "execution_count": null,
   "metadata": {},
   "outputs": [],
   "source": [
    "evaluate_model(model, X_test, y_test)"
   ]
  },
  {
   "cell_type": "markdown",
   "metadata": {},
   "source": [
    "## Multilabel Classification"
   ]
  },
  {
   "cell_type": "code",
   "execution_count": null,
   "metadata": {},
   "outputs": [],
   "source": [
    "config = load_config(\"just-load\")\n",
    "df = load_data(config[\"data_loader\"], \"multilabel\")\n",
    "df"
   ]
  },
  {
   "cell_type": "code",
   "execution_count": null,
   "metadata": {},
   "outputs": [],
   "source": [
    "model = MultilabelCNNModel(\n",
    "    EMBEDDING_DIM,\n",
    "    NUM_FILTERS,\n",
    "    FILTER_SIZES,\n",
    "    MAX_LENGTH\n",
    ")\n",
    "\n",
    "texts = df[\"text\"].tolist()\n",
    "\n",
    "columns = [\"advert\", \"coi\", \"fanpov\", \"pr\", \"resume\"]\n",
    "labels = df[columns].values.tolist()"
   ]
  },
  {
   "cell_type": "code",
   "execution_count": null,
   "metadata": {},
   "outputs": [],
   "source": [
    "model.fit(texts, labels, learning_rate=0.01, num_epochs=3, batch_size=16)"
   ]
  },
  {
   "cell_type": "code",
   "execution_count": null,
   "metadata": {},
   "outputs": [],
   "source": [
    "predictions = model.predict(texts)"
   ]
  },
  {
   "cell_type": "code",
   "execution_count": null,
   "metadata": {},
   "outputs": [],
   "source": [
    "for i, col in enumerate(columns):\n",
    "    pred_col = [p[i] for p in predictions]\n",
    "    label_col = [l[i] for l in labels]\n",
    "\n",
    "    print(f\"Classification Report for {col}:\")\n",
    "    print(classification_report(label_col, pred_col))"
   ]
  }
 ],
 "metadata": {
  "kernelspec": {
   "display_name": "Python 3.12.5 64-bit",
   "language": "python",
   "name": "python3"
  },
  "language_info": {
   "codemirror_mode": {
    "name": "ipython",
    "version": 3
   },
   "file_extension": ".py",
   "mimetype": "text/x-python",
   "name": "python",
   "nbconvert_exporter": "python",
   "pygments_lexer": "ipython3",
   "version": "3.12.5"
  },
  "orig_nbformat": 4,
  "vscode": {
   "interpreter": {
    "hash": "aee8b7b246df8f9039afb4144a1f6fd8d2ca17a180786b69acc140d282b71a49"
   }
  }
 },
 "nbformat": 4,
 "nbformat_minor": 2
}
