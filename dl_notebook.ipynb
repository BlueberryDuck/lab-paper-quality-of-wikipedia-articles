{
 "cells": [
  {
   "cell_type": "markdown",
   "metadata": {},
   "source": [
    "# Deep Learning Approach\n",
    "\n",
    "## Imports"
   ]
  },
  {
   "cell_type": "code",
   "execution_count": 1,
   "metadata": {},
   "outputs": [
    {
     "name": "stderr",
     "output_type": "stream",
     "text": [
      "[nltk_data] Error loading stopwords: <urlopen error [SSL:\n",
      "[nltk_data]     CERTIFICATE_VERIFY_FAILED] certificate verify failed:\n",
      "[nltk_data]     unable to get local issuer certificate (_ssl.c:1000)>\n"
     ]
    }
   ],
   "source": [
    "from sklearn.model_selection import train_test_split\n",
    "\n",
    "from src.utils import load_config\n",
    "from main import run_preprocessing_pipeline\n",
    "from src.models import BinaryNeuralNetworkModel, MultilabelNeuralNetworkModel, MulticlassNeuralNetworkModel\n",
    "from src.evaluation import evaluate_model"
   ]
  },
  {
   "cell_type": "markdown",
   "metadata": {},
   "source": [
    "## Binary Classification"
   ]
  },
  {
   "cell_type": "code",
   "execution_count": null,
   "metadata": {},
   "outputs": [],
   "source": [
    "config = load_config(\"deep-learning/dl-binary\")\n",
    "\n",
    "X, y = run_preprocessing_pipeline(config)\n",
    "y = y[\"label\"].values\n",
    "\n",
    "X_train, X_test, y_train, y_test = train_test_split(X, y, test_size=0.2, random_state=42)"
   ]
  },
  {
   "cell_type": "code",
   "execution_count": null,
   "metadata": {},
   "outputs": [],
   "source": [
    "model = BinaryNeuralNetworkModel(X_train.shape[1])"
   ]
  },
  {
   "cell_type": "code",
   "execution_count": null,
   "metadata": {},
   "outputs": [],
   "source": [
    "model.fit(X_train, y_train, 0.001, 5, 16)"
   ]
  },
  {
   "cell_type": "code",
   "execution_count": null,
   "metadata": {},
   "outputs": [],
   "source": [
    "predictions = model.predict(X_test)"
   ]
  },
  {
   "cell_type": "code",
   "execution_count": null,
   "metadata": {},
   "outputs": [],
   "source": [
    "evaluate_model(model, X_test, y_test)"
   ]
  },
  {
   "cell_type": "code",
   "execution_count": null,
   "metadata": {},
   "outputs": [],
   "source": [
    "model.save(\"data/models/dl-binary.pt\")"
   ]
  },
  {
   "cell_type": "markdown",
   "metadata": {},
   "source": [
    "## Multilabel Classification"
   ]
  },
  {
   "cell_type": "code",
   "execution_count": null,
   "metadata": {},
   "outputs": [],
   "source": [
    "config = load_config(\"deep-learning/dl-multilabel\")\n",
    "\n",
    "X, y = run_preprocessing_pipeline(config)\n",
    "columns = [\"advert\", \"coi\", \"fanpov\", \"pr\", \"resume\"]\n",
    "y = y[columns].values.tolist()\n",
    "\n",
    "X_train, X_test, y_train, y_test = train_test_split(X, y, test_size=0.2, random_state=42)"
   ]
  },
  {
   "cell_type": "code",
   "execution_count": null,
   "metadata": {},
   "outputs": [],
   "source": [
    "model = MultilabelNeuralNetworkModel(X_train.shape[1])"
   ]
  },
  {
   "cell_type": "code",
   "execution_count": null,
   "metadata": {},
   "outputs": [],
   "source": [
    "model.fit(X_train, y_train, learning_rate=0.001, num_epochs=5, batch_size=16)"
   ]
  },
  {
   "cell_type": "code",
   "execution_count": null,
   "metadata": {},
   "outputs": [],
   "source": [
    "predictions = model.predict(X_test)"
   ]
  },
  {
   "cell_type": "code",
   "execution_count": null,
   "metadata": {},
   "outputs": [],
   "source": [
    "evaluate_model(model, X_test, y_test)"
   ]
  },
  {
   "cell_type": "code",
   "execution_count": null,
   "metadata": {},
   "outputs": [],
   "source": [
    "model.save(\"data/models/dl-multilabel.pt\")"
   ]
  },
  {
   "cell_type": "markdown",
   "metadata": {},
   "source": [
    "## Augmented Classification"
   ]
  },
  {
   "cell_type": "code",
   "execution_count": null,
   "metadata": {},
   "outputs": [],
   "source": [
    "config = load_config(\"deep-learning/dl-augmented\")\n",
    "\n",
    "X, y = run_preprocessing_pipeline(config)\n",
    "\n",
    "columns = [\"advert\", \"coi\", \"fanpov\", \"pr\", \"resume\"]\n",
    "y = y[columns].values.tolist()\n",
    "\n",
    "X_train, X_test, y_train, y_test = train_test_split(X, y, test_size=0.2, random_state=42)"
   ]
  },
  {
   "cell_type": "code",
   "execution_count": null,
   "metadata": {},
   "outputs": [],
   "source": [
    "model = MultilabelNeuralNetworkModel(X_train.shape[1])"
   ]
  },
  {
   "cell_type": "code",
   "execution_count": null,
   "metadata": {},
   "outputs": [],
   "source": [
    "model.fit(X_train, y_train, learning_rate=0.001, num_epochs=5, batch_size=16)"
   ]
  },
  {
   "cell_type": "code",
   "execution_count": null,
   "metadata": {},
   "outputs": [],
   "source": [
    "predictions = model.predict(X_test)"
   ]
  },
  {
   "cell_type": "code",
   "execution_count": null,
   "metadata": {},
   "outputs": [],
   "source": [
    "evaluate_model(model, X_test, y_test)"
   ]
  },
  {
   "cell_type": "markdown",
   "metadata": {},
   "source": [
    "## Wikipedia-Dump"
   ]
  },
  {
   "cell_type": "code",
   "execution_count": 2,
   "metadata": {},
   "outputs": [
    {
     "name": "stderr",
     "output_type": "stream",
     "text": [
      "2025-03-15 14:00:33,113 - src.utils - INFO - Loading config from configs/deep-learning/dl-wp-binary.yaml.\n",
      "2025-03-15 14:00:33,120 - src.data_loader - INFO - Loading data with {'good_file': 'data/wp/good_sample.csv', 'promo_file': 'data/wp/promotional_sample.csv', 'neutral_file': 'data/wp/neutral_sample.csv', 'shuffle': False, 'save': 'loaded_data_wp_binary.csv'}\n",
      "2025-03-15 14:00:33,121 - src.data_loader - INFO - Loading non-promotional and promotional data for binary classification.\n",
      "2025-03-15 14:01:40,791 - src.utils - INFO - Data saved to data/intermediary/loaded_data_wp_binary.csv.\n",
      "2025-03-15 14:01:40,794 - src.preprocessing - INFO - Preprocessing data with {'remove_non_word': True, 'convert_lowercase': True, 'remove_stopwords': True, 'apply_stemming': True, 'remove_numbers': False, 'remove_whitespace': True, 'save': 'preprocessed_data_wp_binary.csv'}\n",
      "2025-03-15 14:01:40,794 - src.preprocessing - INFO - Removing non-word characters.\n",
      "2025-03-15 14:03:45,694 - src.preprocessing - INFO - Converting text to lowercase.\n",
      "2025-03-15 14:04:01,873 - src.preprocessing - INFO - Removing stopwords.\n",
      "2025-03-15 14:05:05,380 - src.preprocessing - INFO - Applying stemming.\n",
      "2025-03-15 15:17:51,580 - src.preprocessing - INFO - Removing leading and trailing whitespace.\n",
      "2025-03-15 15:17:55,343 - src.preprocessing - INFO - Text data preprocessing complete.\n",
      "2025-03-15 15:18:30,193 - src.utils - INFO - Data saved to data/intermediary/preprocessed_data_wp_binary.csv.\n",
      "2025-03-15 15:18:30,221 - src.features - INFO - Getting features with {'type': 'tfidf', 'ngram_range': [1, 1], 'max_df': 0.9, 'min_df': 0.001, 'max_features': 10000, 'sublinear_tf': True, 'save': 'features_wp_binary.pkl'}.\n",
      "2025-03-15 15:18:30,235 - src.features - INFO - Using a TF-IDF vectorizer.\n",
      "2025-03-15 15:22:22,824 - src.features - INFO - Feature extraction complete.\n",
      "2025-03-15 15:22:23,335 - src.utils - INFO - Data saved to data/intermediary/features_wp_binary.pkl.\n"
     ]
    }
   ],
   "source": [
    "config = load_config(\"deep-learning/dl-wp-binary\")\n",
    "\n",
    "X, y = run_preprocessing_pipeline(config)\n",
    "\n",
    "y = y[\"label\"].values\n",
    "\n",
    "X_train, X_test, y_train, y_test = train_test_split(X, y, test_size=0.2, random_state=42)"
   ]
  },
  {
   "cell_type": "code",
   "execution_count": 5,
   "metadata": {},
   "outputs": [],
   "source": [
    "model = MulticlassNeuralNetworkModel(X_train.shape[1])"
   ]
  },
  {
   "cell_type": "code",
   "execution_count": 6,
   "metadata": {},
   "outputs": [
    {
     "name": "stdout",
     "output_type": "stream",
     "text": [
      "Epoch 1/5, Loss: 0.3152\n",
      "Epoch 2/5, Loss: 0.2102\n",
      "Epoch 3/5, Loss: 0.1554\n",
      "Epoch 4/5, Loss: 0.1030\n",
      "Epoch 5/5, Loss: 0.0624\n"
     ]
    }
   ],
   "source": [
    "model.fit(X_train, y_train, 0.001, 5, 16)"
   ]
  },
  {
   "cell_type": "code",
   "execution_count": 7,
   "metadata": {},
   "outputs": [],
   "source": [
    "predictions = model.predict(X_test)"
   ]
  },
  {
   "cell_type": "code",
   "execution_count": 8,
   "metadata": {},
   "outputs": [
    {
     "name": "stderr",
     "output_type": "stream",
     "text": [
      "2025-03-15 15:42:31,741 - src.evaluation - INFO - Evaluating the model.\n",
      "2025-03-15 15:42:35,525 - src.evaluation - INFO - Accuracy: 88.48%\n",
      "2025-03-15 15:42:35,573 - src.evaluation - INFO - Classification Report:\n",
      "              precision    recall  f1-score   support\n",
      "\n",
      "           0       0.93      0.96      0.94      5942\n",
      "           1       0.89      0.85      0.87      6060\n",
      "           2       0.84      0.85      0.84      5998\n",
      "\n",
      "    accuracy                           0.88     18000\n",
      "   macro avg       0.88      0.89      0.88     18000\n",
      "weighted avg       0.88      0.88      0.88     18000\n",
      "\n",
      "2025-03-15 15:42:35,584 - src.evaluation - INFO - Confusion Matrix:\n",
      "[[5695   43  204]\n",
      " [ 111 5154  795]\n",
      " [ 321  600 5077]]\n",
      "2025-03-15 15:42:35,735 - src.evaluation - INFO - Evaluation finished.\n"
     ]
    },
    {
     "data": {
      "image/png": "[encoded data removed]",
      "text/plain": [
       "<Figure size 640x480 with 1 Axes>"
      ]
     },
     "execution_count": 8,
     "metadata": {},
     "output_type": "execute_result"
    },
    {
     "data": {
      "image/png": "[encoded data removed]",
      "text/plain": [
       "<Figure size 640x480 with 1 Axes>"
      ]
     },
     "metadata": {},
     "output_type": "display_data"
    }
   ],
   "source": [
    "evaluate_model(model, X_test, y_test)"
   ]
  },
  {
   "cell_type": "code",
   "execution_count": 9,
   "metadata": {},
   "outputs": [],
   "source": [
    "model.save(\"data/models/dl-wp-binary.pt\")"
   ]
  }
 ],
 "metadata": {
  "kernelspec": {
   "display_name": "Python 3.12.5 64-bit",
   "language": "python",
   "name": "python3"
  },
  "language_info": {
   "codemirror_mode": {
    "name": "ipython",
    "version": 3
   },
   "file_extension": ".py",
   "mimetype": "text/x-python",
   "name": "python",
   "nbconvert_exporter": "python",
   "pygments_lexer": "ipython3",
   "version": "3.12.5"
  },
  "orig_nbformat": 4,
  "vscode": {
   "interpreter": {
    "hash": "aee8b7b246df8f9039afb4144a1f6fd8d2ca17a180786b69acc140d282b71a49"
   }
  }
 },
 "nbformat": 4,
 "nbformat_minor": 2
}
